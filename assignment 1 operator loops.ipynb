{
 "cells": [
  {
   "cell_type": "code",
   "execution_count": null,
   "id": "986ef04d",
   "metadata": {},
   "outputs": [],
   "source": [
    "Q 1 : Write a Python program to get the Fibonacci series between 0 to 50\n",
    "\n",
    "    "
   ]
  },
  {
   "cell_type": "code",
   "execution_count": 1,
   "id": "141df9cc",
   "metadata": {},
   "outputs": [
    {
     "name": "stdout",
     "output_type": "stream",
     "text": [
      "enter num of term11\n",
      "0 1 1 2 3 5 8 13 21 34 55 "
     ]
    }
   ],
   "source": [
    "## using for loop\n",
    "num=int(input(\"enter num of term\"))\n",
    "f1=0\n",
    "f2=1\n",
    "f3=0\n",
    "for i in range(num):\n",
    "    print(f3,end=\" \")\n",
    "    f3=f1+f2\n",
    "    f2=f1\n",
    "    f1=f3"
   ]
  },
  {
   "cell_type": "code",
   "execution_count": null,
   "id": "289ba7ae",
   "metadata": {},
   "outputs": [],
   "source": [
    "Q 2: Write a Python program that accepts a word from the user and reverse it."
   ]
  },
  {
   "cell_type": "code",
   "execution_count": 2,
   "id": "2b41a6e5",
   "metadata": {},
   "outputs": [
    {
     "name": "stdout",
     "output_type": "stream",
     "text": [
      "Input a word to reverse:input\n",
      "tupni\n"
     ]
    }
   ],
   "source": [
    "word = input(\"Input a word to reverse:\")\n",
    "for char in range(len(word) - 1, -1, -1):\n",
    "    print(word[char], end=\"\")\n",
    "print(\"\")\n",
    "\n"
   ]
  },
  {
   "cell_type": "code",
   "execution_count": null,
   "id": "3231cc29",
   "metadata": {},
   "outputs": [],
   "source": [
    "Q 3: Write a Python program to count the number of even and odd numbers from a series of numbers\n"
   ]
  },
  {
   "cell_type": "code",
   "execution_count": 3,
   "id": "795338af",
   "metadata": {},
   "outputs": [
    {
     "name": "stdout",
     "output_type": "stream",
     "text": [
      "Even numbers in the list: 6\n",
      "odd numbers in the list:  3\n"
     ]
    }
   ],
   "source": [
    "list1 = [12, 15, 6, 18, 88, 96, 27, 30, 69]\n",
    "\n",
    "even_count = 0\n",
    "odd_count = 0\n",
    "for num in list1:\n",
    "    if num % 2 == 0:\n",
    "        even_count += 1\n",
    "    else:\n",
    "        odd_count += 1\n",
    "\n",
    "print(\"Even numbers in the list:\", even_count)\n",
    "print(\"odd numbers in the list: \", odd_count)\n"
   ]
  }
 ],
 "metadata": {
  "kernelspec": {
   "display_name": "Python 3 (ipykernel)",
   "language": "python",
   "name": "python3"
  },
  "language_info": {
   "codemirror_mode": {
    "name": "ipython",
    "version": 3
   },
   "file_extension": ".py",
   "mimetype": "text/x-python",
   "name": "python",
   "nbconvert_exporter": "python",
   "pygments_lexer": "ipython3",
   "version": "3.11.3"
  }
 },
 "nbformat": 4,
 "nbformat_minor": 5
}
